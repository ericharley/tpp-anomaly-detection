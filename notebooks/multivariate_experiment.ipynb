{
 "cells": [
  {
   "cell_type": "code",
   "execution_count": 1,
   "metadata": {},
   "outputs": [],
   "source": [
    "import matplotlib.pyplot as plt\n",
    "import numpy as np\n",
    "import pandas as pd\n",
    "import seaborn as sns\n",
    "import random\n",
    "import torch\n",
    "import torch.nn as nn\n",
    "import anomaly_tpp as tpp\n",
    "\n",
    "from tqdm.auto import tqdm, trange\n",
    "from statsmodels.distributions.empirical_distribution import ECDF\n",
    "\n",
    "sns.set_style(\"whitegrid\")\n",
    "%matplotlib inline"
   ]
  },
  {
   "cell_type": "code",
   "execution_count": 2,
   "metadata": {},
   "outputs": [],
   "source": [
    "t_max = 100\n",
    "num_sequences = 1000\n",
    "batch_size = 64\n",
    "\n",
    "seed = 123\n",
    "np.random.seed(seed)\n",
    "torch.manual_seed(seed)\n",
    "random.seed(seed)"
   ]
  },
  {
   "cell_type": "code",
   "execution_count": 3,
   "metadata": {},
   "outputs": [],
   "source": [
    "# scenario = tpp.scenarios.multivariate.ServerStop(t_max, num_sequences)\n",
    "scenario = tpp.scenarios.multivariate.ServerOverload(t_max, num_sequences)\n",
    "# scenario = tpp.scenarios.multivariate.Latency(t_max, num_sequences)\n",
    "# scenario = tpp.scenarios.multivariate.Connectome()"
   ]
  },
  {
   "cell_type": "code",
   "execution_count": 4,
   "metadata": {},
   "outputs": [],
   "source": [
    "id_train = scenario.get_id_train()\n",
    "dl_train = id_train.get_dataloader(batch_size=batch_size, shuffle=True)"
   ]
  },
  {
   "cell_type": "code",
   "execution_count": 5,
   "metadata": {
    "scrolled": false
   },
   "outputs": [
    {
     "data": {
      "application/vnd.jupyter.widget-view+json": {
       "model_id": "e86b9bfe04014ff78f089a5f7ffb3a3e",
       "version_major": 2,
       "version_minor": 0
      },
      "text/plain": [
       "  0%|          | 0/100 [00:00<?, ?it/s]"
      ]
     },
     "metadata": {},
     "output_type": "display_data"
    },
    {
     "name": "stdout",
     "output_type": "stream",
     "text": [
      "Early stopping at epoch 53\n"
     ]
    }
   ],
   "source": [
    "# Fit a neural TPP model on the training ID sequences\n",
    "ntpp = tpp.utils.fit_ntpp_model(dl_train, num_marks=id_train.num_marks)"
   ]
  },
  {
   "cell_type": "code",
   "execution_count": 6,
   "metadata": {},
   "outputs": [],
   "source": [
    "test_statistics = [\n",
    "    tpp.statistics.ks_arrival,\n",
    "    tpp.statistics.ks_interevent,\n",
    "    tpp.statistics.chi_squared,\n",
    "    tpp.statistics.sum_of_squared_spacings,\n",
    "    tpp.statistics.loglike,\n",
    "]"
   ]
  },
  {
   "cell_type": "markdown",
   "metadata": {},
   "source": [
    "### Estimate distribution of each test statistic under $H_0$"
   ]
  },
  {
   "cell_type": "code",
   "execution_count": 7,
   "metadata": {},
   "outputs": [],
   "source": [
    "# in-distribution (ID) training sequences are used to estimate the CDF of the test statistic under H_0\n",
    "# (this is then used to compute the p-values)\n",
    "id_train_batch = tpp.data.Batch.from_list(id_train)\n",
    "id_train_poisson_times = tpp.utils.extract_poisson_arrival_times(ntpp, id_train_batch)"
   ]
  },
  {
   "cell_type": "code",
   "execution_count": 8,
   "metadata": {},
   "outputs": [],
   "source": [
    "# Empirical distribution of each test statistic on id_train.\n",
    "# This approximates the CDF of the test statistic under H_0\n",
    "# and is used to compute the p-values\n",
    "ecdfs = {}\n",
    "\n",
    "for stat in test_statistics:\n",
    "    name = stat.__name__\n",
    "    scores = stat(poisson_times_per_mark=id_train_poisson_times, model=ntpp, batch=id_train_batch)\n",
    "    ecdfs[name] = ECDF(scores)\n",
    "\n",
    "def twosided_pval(stat_name: str, scores: np.ndarray):\n",
    "    \"\"\"Compute two-sided p-value for the given values of test statistic.\n",
    "    \n",
    "    Args:\n",
    "        stat_name: Name of the test statistic, \n",
    "            {\"ks_arrival\", \"ks_interevent\", \"chi_squared\", \"sum_of_squared_spacings\"}\n",
    "        scores: Value of the statistic for each sample in the test set,\n",
    "            shape [num_test_samples]\n",
    "    \n",
    "    Returns:\n",
    "        p_vals: Two-sided p-value for each sample in the test set,\n",
    "            shape [num_test_samples]\n",
    "    \"\"\"\n",
    "    ecdf = ecdfs[stat_name](scores)\n",
    "    return 2 * np.minimum(ecdf, 1 - ecdf)"
   ]
  },
  {
   "cell_type": "markdown",
   "metadata": {},
   "source": [
    "### Compute test statistic for ID test sequences"
   ]
  },
  {
   "cell_type": "code",
   "execution_count": 9,
   "metadata": {},
   "outputs": [],
   "source": [
    "# ID test sequences will be compared to OOD test sequences to evaluate different test statistics\n",
    "id_test = scenario.get_id_test()\n",
    "id_test_batch = tpp.data.Batch.from_list(id_test)\n",
    "id_test_poisson_times = tpp.utils.extract_poisson_arrival_times(ntpp, id_test_batch)\n",
    "\n",
    "# Compute the statistics for all ID test sequences\n",
    "id_test_scores = {}\n",
    "for stat in test_statistics:\n",
    "    name = stat.__name__\n",
    "    id_test_scores[name] = stat(poisson_times_per_mark=id_test_poisson_times, model=ntpp, batch=id_test_batch)"
   ]
  },
  {
   "cell_type": "markdown",
   "metadata": {},
   "source": [
    "### Compute test statistic for OOD test sequences & evaluate AUC ROC based on the p-values"
   ]
  },
  {
   "cell_type": "code",
   "execution_count": 10,
   "metadata": {
    "scrolled": true
   },
   "outputs": [
    {
     "data": {
      "application/vnd.jupyter.widget-view+json": {
       "model_id": "2536965c5a414a00b8b2d0bfc9ef512b",
       "version_major": 2,
       "version_minor": 0
      },
      "text/plain": [
       "  0%|          | 0/5 [00:00<?, ?it/s]"
      ]
     },
     "metadata": {},
     "output_type": "display_data"
    },
    {
     "data": {
      "application/vnd.jupyter.widget-view+json": {
       "model_id": "f3fbb96ddf4e4dd2bf8391eb4f1cc071",
       "version_major": 2,
       "version_minor": 0
      },
      "text/plain": [
       "  0%|          | 0/19 [00:00<?, ?it/s]"
      ]
     },
     "metadata": {},
     "output_type": "display_data"
    },
    {
     "data": {
      "application/vnd.jupyter.widget-view+json": {
       "model_id": "ace2ca3ee387443ea8ba116e054b00fa",
       "version_major": 2,
       "version_minor": 0
      },
      "text/plain": [
       "  0%|          | 0/19 [00:00<?, ?it/s]"
      ]
     },
     "metadata": {},
     "output_type": "display_data"
    },
    {
     "data": {
      "application/vnd.jupyter.widget-view+json": {
       "model_id": "cef647c01419410ea8c2b830ea2f5957",
       "version_major": 2,
       "version_minor": 0
      },
      "text/plain": [
       "  0%|          | 0/19 [00:00<?, ?it/s]"
      ]
     },
     "metadata": {},
     "output_type": "display_data"
    },
    {
     "data": {
      "application/vnd.jupyter.widget-view+json": {
       "model_id": "66286ea7c0a240c9a6a50015718521c4",
       "version_major": 2,
       "version_minor": 0
      },
      "text/plain": [
       "  0%|          | 0/19 [00:00<?, ?it/s]"
      ]
     },
     "metadata": {},
     "output_type": "display_data"
    },
    {
     "data": {
      "application/vnd.jupyter.widget-view+json": {
       "model_id": "a013c693764f4e969f4634790d5ce875",
       "version_major": 2,
       "version_minor": 0
      },
      "text/plain": [
       "  0%|          | 0/19 [00:00<?, ?it/s]"
      ]
     },
     "metadata": {},
     "output_type": "display_data"
    }
   ],
   "source": [
    "ntpp.cuda()\n",
    "results = []\n",
    "detectability_values = np.arange(0, 0.95, step=0.05)\n",
    "num_seeds = 5\n",
    "\n",
    "for seed in trange(num_seeds):\n",
    "    for det in tqdm(detectability_values):\n",
    "        np.random.seed(seed)\n",
    "        ood_test = scenario.sample_ood(detectability=det, seed=seed)\n",
    "        ood_test_batch = tpp.data.Batch.from_list(ood_test).cuda()\n",
    "        ood_test_poisson_times = tpp.utils.extract_poisson_arrival_times(ntpp, ood_test_batch)\n",
    "\n",
    "        for stat in test_statistics:\n",
    "            stat_name = stat.__name__\n",
    "            id_scores = id_test_scores[stat_name]\n",
    "            id_pvals = twosided_pval(stat_name, id_scores)\n",
    "\n",
    "            ood_scores = stat(poisson_times_per_mark=ood_test_poisson_times, model=ntpp, batch=ood_test_batch)\n",
    "            ood_pvals = twosided_pval(stat_name, ood_scores)\n",
    "\n",
    "            auc = tpp.utils.roc_auc_from_pvals(id_pvals, ood_pvals)\n",
    "\n",
    "            res = {\"statistic\": stat_name, \"seed\": seed, \"detectability\": det, \n",
    "                   \"auc\": auc, \"scenario\": scenario.name}\n",
    "            results.append(res)"
   ]
  },
  {
   "cell_type": "code",
   "execution_count": 11,
   "metadata": {},
   "outputs": [],
   "source": [
    "df = pd.DataFrame(results)"
   ]
  },
  {
   "cell_type": "code",
   "execution_count": 12,
   "metadata": {},
   "outputs": [
    {
     "data": {
      "image/png": "[encoded data removed]",
      "text/plain": [
       "<Figure size 600x400 with 1 Axes>"
      ]
     },
     "metadata": {
      "needs_background": "light"
     },
     "output_type": "display_data"
    }
   ],
   "source": [
    "plt.figure(dpi=100)\n",
    "sns.pointplot(data=df, x=\"detectability\", y=\"auc\", hue=\"statistic\", ci=None)\n",
    "ax = plt.gca()\n",
    "ax.set_xticks([1, 5, 10, 15, 18])\n",
    "ax.set_title(scenario.name)\n",
    "plt.legend(fontsize=8)\n",
    "plt.show()"
   ]
  }
 ],
 "metadata": {
  "kernelspec": {
   "display_name": "Python 3 (ipykernel)",
   "language": "python",
   "name": "python3"
  },
  "language_info": {
   "codemirror_mode": {
    "name": "ipython",
    "version": 3
   },
   "file_extension": ".py",
   "mimetype": "text/x-python",
   "name": "python",
   "nbconvert_exporter": "python",
   "pygments_lexer": "ipython3",
   "version": "3.9.7"
  },
  "toc": {
   "base_numbering": 1,
   "nav_menu": {},
   "number_sections": true,
   "sideBar": true,
   "skip_h1_title": false,
   "title_cell": "Table of Contents",
   "title_sidebar": "Contents",
   "toc_cell": false,
   "toc_position": {},
   "toc_section_display": true,
   "toc_window_display": false
  }
 },
 "nbformat": 4,
 "nbformat_minor": 4
}
