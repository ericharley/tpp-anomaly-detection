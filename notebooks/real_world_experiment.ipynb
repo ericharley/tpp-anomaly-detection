{
 "cells": [
  {
   "cell_type": "code",
   "execution_count": 1,
   "metadata": {},
   "outputs": [],
   "source": [
    "import matplotlib.pyplot as plt\n",
    "import numpy as np\n",
    "import pandas as pd\n",
    "import seaborn as sns\n",
    "import random\n",
    "import torch\n",
    "import torch.nn as nn\n",
    "import anomaly_tpp as tpp\n",
    "\n",
    "from tqdm.auto import tqdm, trange\n",
    "from statsmodels.distributions.empirical_distribution import ECDF\n",
    "\n",
    "sns.set_style(\"whitegrid\")\n",
    "%matplotlib inline"
   ]
  },
  {
   "cell_type": "code",
   "execution_count": 2,
   "metadata": {},
   "outputs": [],
   "source": [
    "t_max = 100\n",
    "batch_size = 64\n",
    "\n",
    "seed = 123\n",
    "np.random.seed(seed)\n",
    "torch.manual_seed(seed)\n",
    "random.seed(seed)"
   ]
  },
  {
   "cell_type": "code",
   "execution_count": 3,
   "metadata": {},
   "outputs": [],
   "source": [
    "# scenario = tpp.scenarios.real_world.STEAD()\n",
    "scenario = tpp.scenarios.real_world.ServerLogs()"
   ]
  },
  {
   "cell_type": "code",
   "execution_count": 4,
   "metadata": {},
   "outputs": [],
   "source": [
    "id_train = scenario.id_train\n",
    "id_test = scenario.id_test\n",
    "\n",
    "dl_train = id_train.get_dataloader(batch_size=batch_size, shuffle=True)"
   ]
  },
  {
   "cell_type": "code",
   "execution_count": 5,
   "metadata": {
    "scrolled": true
   },
   "outputs": [
    {
     "data": {
      "application/vnd.jupyter.widget-view+json": {
       "model_id": "11ffc21866ec44a1b978e1dccab7ca4e",
       "version_major": 2,
       "version_minor": 0
      },
      "text/plain": [
       "  0%|          | 0/100 [00:00<?, ?it/s]"
      ]
     },
     "metadata": {},
     "output_type": "display_data"
    },
    {
     "name": "stdout",
     "output_type": "stream",
     "text": [
      "Early stopping at epoch 42\n"
     ]
    }
   ],
   "source": [
    "# Fit a neural TPP model on the training ID sequences\n",
    "torch.manual_seed(123)\n",
    "ntpp = tpp.utils.fit_ntpp_model(dl_train, num_marks=id_train.num_marks)"
   ]
  },
  {
   "cell_type": "code",
   "execution_count": 6,
   "metadata": {},
   "outputs": [],
   "source": [
    "test_statistics = [\n",
    "    tpp.statistics.ks_arrival,\n",
    "    tpp.statistics.ks_interevent,\n",
    "    tpp.statistics.chi_squared,\n",
    "    tpp.statistics.sum_of_squared_spacings,\n",
    "    tpp.statistics.loglike,\n",
    "]"
   ]
  },
  {
   "cell_type": "markdown",
   "metadata": {},
   "source": [
    "### Estimate distribution of each test statistic under $H_0$"
   ]
  },
  {
   "cell_type": "code",
   "execution_count": 7,
   "metadata": {},
   "outputs": [],
   "source": [
    "# in-distribution (ID) training sequences are used to estimate the CDF of the test statistic under H_0\n",
    "# (this is then used to compute the p-values)\n",
    "id_train_batch = tpp.data.Batch.from_list(id_train)\n",
    "id_train_poisson_times = tpp.utils.extract_poisson_arrival_times(ntpp, id_train_batch)"
   ]
  },
  {
   "cell_type": "code",
   "execution_count": 8,
   "metadata": {},
   "outputs": [],
   "source": [
    "# Empirical distribution of each test statistic on id_train.\n",
    "# This approximates the CDF of the test statistic under H_0\n",
    "# and is used to compute the p-values\n",
    "ecdfs = {}\n",
    "\n",
    "for stat in test_statistics:\n",
    "    name = stat.__name__\n",
    "    scores = stat(poisson_times_per_mark=id_train_poisson_times, model=ntpp, batch=id_train_batch)\n",
    "    ecdfs[name] = ECDF(scores)\n",
    "\n",
    "def twosided_pval(stat_name: str, scores: np.ndarray):\n",
    "    \"\"\"Compute two-sided p-value for the given values of test statistic.\n",
    "    \n",
    "    Args:\n",
    "        stat_name: Name of the test statistic, \n",
    "            {\"ks_arrival\", \"ks_interevent\", \"chi_squared\", \"sum_of_squared_spacings\"}\n",
    "        scores: Value of the statistic for each sample in the test set,\n",
    "            shape [num_test_samples]\n",
    "    \n",
    "    Returns:\n",
    "        p_vals: Two-sided p-value for each sample in the test set,\n",
    "            shape [num_test_samples]\n",
    "    \"\"\"\n",
    "    ecdf = ecdfs[stat_name](scores)\n",
    "    return 2 * np.minimum(ecdf, 1 - ecdf)"
   ]
  },
  {
   "cell_type": "markdown",
   "metadata": {},
   "source": [
    "### Compute test statistic for ID test sequences"
   ]
  },
  {
   "cell_type": "code",
   "execution_count": 9,
   "metadata": {},
   "outputs": [],
   "source": [
    "# ID test sequences will be compared to OOD test sequences to evaluate different test statistics\n",
    "id_test_batch = tpp.data.Batch.from_list(id_test)\n",
    "id_test_poisson_times = tpp.utils.extract_poisson_arrival_times(ntpp, id_test_batch)\n",
    "\n",
    "# Compute the statistics for all ID test sequences\n",
    "id_test_scores = {}\n",
    "for stat in test_statistics:\n",
    "    name = stat.__name__\n",
    "    id_test_scores[name] = stat(poisson_times_per_mark=id_test_poisson_times, model=ntpp, batch=id_test_batch)"
   ]
  },
  {
   "cell_type": "markdown",
   "metadata": {},
   "source": [
    "### Compute test statistic for OOD test sequences & evaluate AUC ROC based on the p-values"
   ]
  },
  {
   "cell_type": "code",
   "execution_count": 10,
   "metadata": {
    "scrolled": true
   },
   "outputs": [],
   "source": [
    "results = []\n",
    "\n",
    "for name, ood_test in scenario.ood_test_datasets.items():\n",
    "    ood_test_batch = tpp.data.Batch.from_list(ood_test)\n",
    "    ood_test_poisson_times = tpp.utils.extract_poisson_arrival_times(ntpp, ood_test_batch)\n",
    "\n",
    "    for stat in test_statistics:\n",
    "        stat_name = stat.__name__\n",
    "        id_scores = id_test_scores[stat_name]\n",
    "        id_pvals = twosided_pval(stat_name, id_scores)\n",
    "\n",
    "        ood_scores = stat(poisson_times_per_mark=ood_test_poisson_times, model=ntpp, batch=ood_test_batch)\n",
    "        ood_pvals = twosided_pval(stat_name, ood_scores)\n",
    "\n",
    "        auc = tpp.utils.roc_auc_from_pvals(id_pvals, ood_pvals)\n",
    "\n",
    "        res = {\"statistic\": stat_name, \"auc\": auc, \"scenario\": name}\n",
    "        results.append(res)"
   ]
  },
  {
   "cell_type": "code",
   "execution_count": 11,
   "metadata": {},
   "outputs": [],
   "source": [
    "df = pd.DataFrame(results)"
   ]
  },
  {
   "cell_type": "code",
   "execution_count": 12,
   "metadata": {},
   "outputs": [
    {
     "data": {
      "text/html": [
       "<div>\n",
       "<style scoped>\n",
       "    .dataframe tbody tr th:only-of-type {\n",
       "        vertical-align: middle;\n",
       "    }\n",
       "\n",
       "    .dataframe tbody tr th {\n",
       "        vertical-align: top;\n",
       "    }\n",
       "\n",
       "    .dataframe thead tr th {\n",
       "        text-align: left;\n",
       "    }\n",
       "\n",
       "    .dataframe thead tr:last-of-type th {\n",
       "        text-align: right;\n",
       "    }\n",
       "</style>\n",
       "<table border=\"1\" class=\"dataframe\">\n",
       "  <thead>\n",
       "    <tr>\n",
       "      <th></th>\n",
       "      <th colspan=\"5\" halign=\"left\">auc</th>\n",
       "    </tr>\n",
       "    <tr>\n",
       "      <th>statistic</th>\n",
       "      <th>chi_squared</th>\n",
       "      <th>ks_arrival</th>\n",
       "      <th>ks_interevent</th>\n",
       "      <th>loglike</th>\n",
       "      <th>sum_of_squared_spacings</th>\n",
       "    </tr>\n",
       "    <tr>\n",
       "      <th>scenario</th>\n",
       "      <th></th>\n",
       "      <th></th>\n",
       "      <th></th>\n",
       "      <th></th>\n",
       "      <th></th>\n",
       "    </tr>\n",
       "  </thead>\n",
       "  <tbody>\n",
       "    <tr>\n",
       "      <th>Packet corruption (1%)</th>\n",
       "      <td>78.0</td>\n",
       "      <td>43.2</td>\n",
       "      <td>73.1</td>\n",
       "      <td>91.3</td>\n",
       "      <td>94.6</td>\n",
       "    </tr>\n",
       "    <tr>\n",
       "      <th>Packet corruption (10%)</th>\n",
       "      <td>56.0</td>\n",
       "      <td>73.5</td>\n",
       "      <td>99.0</td>\n",
       "      <td>99.0</td>\n",
       "      <td>99.0</td>\n",
       "    </tr>\n",
       "    <tr>\n",
       "      <th>Packet delay (all services)</th>\n",
       "      <td>98.5</td>\n",
       "      <td>97.3</td>\n",
       "      <td>94.8</td>\n",
       "      <td>95.7</td>\n",
       "      <td>98.7</td>\n",
       "    </tr>\n",
       "    <tr>\n",
       "      <th>Packet delay (frontend)</th>\n",
       "      <td>98.1</td>\n",
       "      <td>90.8</td>\n",
       "      <td>67.9</td>\n",
       "      <td>99.2</td>\n",
       "      <td>96.4</td>\n",
       "    </tr>\n",
       "    <tr>\n",
       "      <th>Packet duplication(1%)</th>\n",
       "      <td>27.7</td>\n",
       "      <td>55.1</td>\n",
       "      <td>58.3</td>\n",
       "      <td>81.5</td>\n",
       "      <td>91.0</td>\n",
       "    </tr>\n",
       "  </tbody>\n",
       "</table>\n",
       "</div>"
      ],
      "text/plain": [
       "                                    auc                                   \\\n",
       "statistic                   chi_squared ks_arrival ks_interevent loglike   \n",
       "scenario                                                                   \n",
       "Packet corruption (1%)             78.0       43.2          73.1    91.3   \n",
       "Packet corruption (10%)            56.0       73.5          99.0    99.0   \n",
       "Packet delay (all services)        98.5       97.3          94.8    95.7   \n",
       "Packet delay (frontend)            98.1       90.8          67.9    99.2   \n",
       "Packet duplication(1%)             27.7       55.1          58.3    81.5   \n",
       "\n",
       "                                                     \n",
       "statistic                   sum_of_squared_spacings  \n",
       "scenario                                             \n",
       "Packet corruption (1%)                         94.6  \n",
       "Packet corruption (10%)                        99.0  \n",
       "Packet delay (all services)                    98.7  \n",
       "Packet delay (frontend)                        96.4  \n",
       "Packet duplication(1%)                         91.0  "
      ]
     },
     "execution_count": 12,
     "metadata": {},
     "output_type": "execute_result"
    }
   ],
   "source": [
    "df.groupby([\"scenario\", \"statistic\"]).mean().round(3).unstack() * 100"
   ]
  }
 ],
 "metadata": {
  "kernelspec": {
   "display_name": "Python 3 (ipykernel)",
   "language": "python",
   "name": "python3"
  },
  "language_info": {
   "codemirror_mode": {
    "name": "ipython",
    "version": 3
   },
   "file_extension": ".py",
   "mimetype": "text/x-python",
   "name": "python",
   "nbconvert_exporter": "python",
   "pygments_lexer": "ipython3",
   "version": "3.9.7"
  },
  "toc": {
   "base_numbering": 1,
   "nav_menu": {},
   "number_sections": true,
   "sideBar": true,
   "skip_h1_title": false,
   "title_cell": "Table of Contents",
   "title_sidebar": "Contents",
   "toc_cell": false,
   "toc_position": {},
   "toc_section_display": true,
   "toc_window_display": false
  }
 },
 "nbformat": 4,
 "nbformat_minor": 4
}
